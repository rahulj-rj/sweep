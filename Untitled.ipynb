{
 "cells": [
  {
   "cell_type": "code",
   "execution_count": 96,
   "metadata": {},
   "outputs": [
    {
     "data": {
      "text/plain": [
       "[0, 2]"
      ]
     },
     "execution_count": 96,
     "metadata": {},
     "output_type": "execute_result"
    }
   ],
   "source": [
    "x=[0,1,0]\n",
    "y=[1,0,1]\n",
    "[int(a != b) for a,b in zip(x,y)]\n",
    "#[a and b for a,b in zip(x,y)]\n",
    "c=[0]*52\n",
    "c[int(random.random()*52)]=1\n",
    "c.index(1)\n",
    "[i for i, x in enumerate([1,0,1]) if x==1]"
   ]
  },
  {
   "cell_type": "code",
   "execution_count": 95,
   "metadata": {
    "scrolled": true
   },
   "outputs": [
    {
     "data": {
      "text/plain": [
       "array([0, 4], dtype=int64)"
      ]
     },
     "execution_count": 95,
     "metadata": {},
     "output_type": "execute_result"
    }
   ],
   "source": [
    "import numpy as np\n",
    "np.where(np.array([1,0,0,0,1,0,0])==1)[0]"
   ]
  },
  {
   "cell_type": "code",
   "execution_count": 8,
   "metadata": {
    "collapsed": true
   },
   "outputs": [],
   "source": [
    "import pandas as pd \n",
    "import sklearn\n",
    "import random\n",
    "\n",
    "class Bunch:\n",
    "    def __init__(self, mycards=None):\n",
    "        if mycards==None:\n",
    "            mycards=[0]*52\n",
    "        self.mycards=mycards #spades, hearts, clubs, diamonds. Ace to King\n",
    "        \n",
    "    def remove(self, cards):\n",
    "        if sum([a and b for a,b in zip(self.mycards, cards.mycards)])==1:\n",
    "            self.mycards = [int(a != b) for a,b in zip(self.mycards, cards.mycards)]\n",
    "        else:\n",
    "            print(\"Error: Card not found \"+str(cards.mycards.index(1)))\n",
    "            \n",
    "    def add(self, cards):\n",
    "        if sum([a and b for a,b in zip(self.mycards, cards.mycards)])==1:\n",
    "            print(\"Error: Card already exists \"+str(cards.mycards.index(1)))\n",
    "        else:\n",
    "            self.mycards = [int(a != b) for a,b in zip(self.mycards, cards.mycards)]\n",
    "    \n",
    "    def pick_random(self, do_del=True):\n",
    "        pos=random.choice([i for i, x in enumerate(self.mycards) if x==1])\n",
    "        if do_del:\n",
    "            self.mycards[pos]=0\n",
    "        picked=Card(pos=pos)\n",
    "        return(picked)\n",
    "    \n",
    "\n",
    "class Card(Bunch):\n",
    "    def __init__(self, pos=-1, mycards=None):\n",
    "        if mycards==None:\n",
    "            mycards=[0]*52\n",
    "        if pos>=0 and pos<52:\n",
    "            self.mycards=mycards\n",
    "            self.mycards[pos]=1\n",
    "            self.suit=int(pos/13)\n",
    "            self.val=pos%13+1\n",
    "        elif sum(mycards)==1:\n",
    "            self.mycards=mycards\n",
    "            pos=mycards.index(1)\n",
    "            self.suit=int(pos/13)\n",
    "            self.val=pos%13+1\n",
    "        else:\n",
    "            print(\"Error\")\n",
    "            exit(1) #self.mycards=mycards #spades, hearts, clubs, diamonds. Ace to King\n",
    "\n",
    "class Stack(Bunch):\n",
    "    def __init__(self, card):\n",
    "        if sum(card.mycards)!=1:\n",
    "            print(\"Error\")\n",
    "            exit(1)\n",
    "        self.val=card.val\n",
    "        #self.points=\n",
    "        self.mycards=card.mycards\n",
    "        self.pukka=False\n",
    "        #self.mapping={1:self.throw}\n",
    "    \n",
    "    def modify(self, card, is_run=True):\n",
    "        newval=self.val+card.val\n",
    "        if self.pukka or newval>13 or newval<9:\n",
    "            #print(\"Error: Stack.modify\")\n",
    "            return(0)\n",
    "        else:\n",
    "            if is_run:\n",
    "                self.val=newval\n",
    "                self.add(card)\n",
    "            return(1)\n",
    "    \n",
    "    def addon(self, card, stack1=None, is_run=True):\n",
    "        if stack1 is None and card.val==self.val:\n",
    "            if is_run:\n",
    "                self.add(card)\n",
    "                self.pukka=True\n",
    "            return(1)\n",
    "        elif stack1 is not None:\n",
    "            if stack1.pukka==False and card.val+stack1.val==self.val:\n",
    "                if is_run:\n",
    "                    self.add(card)\n",
    "                    self.add(stack1)\n",
    "                    self.pukka=True\n",
    "                return(1)\n",
    "            else:\n",
    "                #print(\"Error: Stack.addon stack1 is not None\")\n",
    "                return(0)\n",
    "        else:\n",
    "            #print(\"Error: Stack.addon stack1 is None, vals are diff\")\n",
    "            return(0)\n",
    "    \n",
    "    def pick(self, card, pl=None, is_run=True):\n",
    "        if card.val==self.val:\n",
    "            if is_run:\n",
    "                pl.pocket.add(self)\n",
    "                self.remove(self)\n",
    "            return(1)\n",
    "        else:\n",
    "            #print(\"Error: Stack.pick\")\n",
    "            return(0)\n",
    "\n",
    "class Player:\n",
    "    def __init__(self, num, turn):\n",
    "        self.turn=turn\n",
    "        self.num=num\n",
    "        self.hand=Bunch()\n",
    "        self.pocket=Bunch()\n",
    "        self.top5=[0,0,0,0,0] #whether player has a [9,10,j,q,k]\n",
    "        self.lm=LegalMoves()\n",
    "        if num==0:\n",
    "            self.hand_start=Bunch()\n",
    "    \n",
    "    def get_lm(self, middle):\n",
    "        self.lm.check_moves(middle, self.hand)\n",
    "        \n",
    "    def choose_action(self, middle):\n",
    "        self.get_lm(middle)\n",
    "        self.lm.moves\n",
    "        \n",
    "    def play(self, card, middle, action=-1, addon=None, target=None): #-1=throw; 0=combine; 1=pick\n",
    "        if action==-1:\n",
    "            middle.throw(card)\n",
    "        elif action==0:\n",
    "            middle.combine(card, addon, target)\n",
    "        elif action==1:\n",
    "            middle.pick(card)\n",
    "        else:\n",
    "            print(\"Error\")\n",
    "            exit(1)\n",
    "\n",
    "\n",
    "class Game():\n",
    "    def __init__(self, num_pl=2):\n",
    "        #create deck\n",
    "        (self.suit, self.val)=Game.create_deck() \n",
    "        self.deck=Bunch([1]*52)\n",
    "        \n",
    "        #all players\n",
    "        self.pl=[]\n",
    "        for i in range(num_pl):\n",
    "            self.pl.append(Player(i,i))\n",
    "        \n",
    "        #game board\n",
    "        self.middle=[]\n",
    "        for i in range(4):\n",
    "            self.middle.append(Stack(self.deck.pick_random()))\n",
    "        self.deal()\n",
    "        self.pl[0].get_lm(self.middle)\n",
    "        \n",
    "    def deal(self):\n",
    "        for i in range(12):\n",
    "            temp=self.deck.pick_random()\n",
    "            if i<4:\n",
    "                self.pl[0].hand_start.add(temp)\n",
    "            self.pl[0].hand.add(temp)\n",
    "            self.pl[1].hand.add(self.deck.pick_random())\n",
    "    \n",
    "    @staticmethod\n",
    "    def create_deck(deets=False):\n",
    "        suit={}\n",
    "        val={}\n",
    "        for i in range(52):\n",
    "            suit[i]=int(i/13) #0-spades,1-hearts,2-clubs,3-diamonds\n",
    "            val[i]=i%13+1 #1,2,...,13\n",
    "        if deets:\n",
    "            s_verbose={}\n",
    "            for i in range(52):\n",
    "                if suit[i]==0:\n",
    "                    s_verbose[i]='spades'\n",
    "                elif suit[i]==1:\n",
    "                    s_verbose[i]='hearts'\n",
    "                elif suit[i]==2:\n",
    "                    s_verbose[i]='clubs'\n",
    "                elif suit[i]==3:\n",
    "                    s_verbose[i]='diamonds'\n",
    "            return(suit, val, s_verbose)\n",
    "        return(suit, val)\n",
    "    \n",
    "    @staticmethod\n",
    "    def get_cards(bunch):\n",
    "        (suit, val, s_verbose)=Game.create_deck(deets=True)\n",
    "        out=[[s_verbose[k], val[k]] for k in [i for i, x in enumerate(bunch.mycards) if x==1]]\n",
    "        #print(out)\n",
    "        return(out)"
   ]
  },
  {
   "cell_type": "code",
   "execution_count": 9,
   "metadata": {
    "collapsed": true
   },
   "outputs": [],
   "source": [
    "class LegalMoves():\n",
    "    def __init__(self):\n",
    "        self.moves=[]\n",
    "        #0 is throw, 1 is pick, 2 is modify, 3 is addon\n",
    "        #[move_type, card, stack1, stack2]\n",
    "        #for i in range(52):\n",
    "            #self.moves.append([])\n",
    "            #for each card in deck, assign legal moves: \n",
    "            #pick[check each stack]\n",
    "            #modify[check each stack]\n",
    "            #addon[check each stack against every (other (todo)) stack]\n",
    "            #throw\n",
    "    def check_moves(self, middle, hand):\n",
    "        if middle is not None and hand is not None:\n",
    "            hand_cards=[Card(i) for i, x in enumerate(hand.mycards) if x==1]\n",
    "            for c in hand_cards:\n",
    "                pickables=self.check_pick(middle, c)\n",
    "                if len(pickables)==0:\n",
    "                    self.moves.append([0,c])\n",
    "                else:\n",
    "                    for k in pickables:\n",
    "                        self.moves.append([1,c,k])\n",
    "                ctr=0\n",
    "                for stack in middle:\n",
    "                    if stack.modify(c, is_run=False):\n",
    "                        self.moves.append([2,c,ctr])\n",
    "                    temp_add=self.check_addons(middle, stack, c)\n",
    "                    if len(temp_add)>0:\n",
    "                        for k in temp_add:\n",
    "                            self.moves.append([3,c,ctr,k])\n",
    "                    ctr+=1\n",
    "    \n",
    "    def check_pick(self, middle, card):\n",
    "        out=[]\n",
    "        for i in range(len(middle)):\n",
    "            if middle[i].pick(card, is_run=False):\n",
    "                out.append(i)\n",
    "        return(out)\n",
    "    \n",
    "    def check_addons(self, middle, stack, card):\n",
    "        ctr=0\n",
    "        out=[]\n",
    "        for s in middle:\n",
    "            if stack.addon(card, s, is_run=False):\n",
    "                out.append(ctr)\n",
    "            ctr+=1\n",
    "        return(out)"
   ]
  },
  {
   "cell_type": "code",
   "execution_count": 10,
   "metadata": {},
   "outputs": [],
   "source": [
    "g=Game()"
   ]
  },
  {
   "cell_type": "code",
   "execution_count": 12,
   "metadata": {},
   "outputs": [
    {
     "name": "stdout",
     "output_type": "stream",
     "text": [
      "[['hearts', 2]]\n",
      "[['diamonds', 12]]\n",
      "[['diamonds', 9]]\n",
      "[['diamonds', 8]]\n"
     ]
    }
   ],
   "source": [
    "for stack in g.middle:\n",
    "    print(Game.get_cards(stack))"
   ]
  },
  {
   "cell_type": "code",
   "execution_count": 13,
   "metadata": {
    "collapsed": true
   },
   "outputs": [],
   "source": [
    "g.pl[0].lm=LegalMoves()\n",
    "g.pl[0].lm.check_moves(g.middle, g.pl[0].hand)"
   ]
  },
  {
   "cell_type": "code",
   "execution_count": 14,
   "metadata": {},
   "outputs": [
    {
     "name": "stdout",
     "output_type": "stream",
     "text": [
      "0 [['spades', 6]]\n",
      "3 [['spades', 6]]\n",
      "0 [['spades', 13]]\n",
      "0 [['hearts', 6]]\n",
      "3 [['hearts', 6]]\n",
      "0 [['hearts', 11]]\n",
      "2 [['hearts', 11]] 0\n",
      "1 [['hearts', 12]] 1\n",
      "0 [['hearts', 13]]\n",
      "0 [['clubs', 3]]\n",
      "3 [['clubs', 3]]\n",
      "2 [['clubs', 3]] 2\n",
      "2 [['clubs', 3]] 3\n",
      "0 [['clubs', 7]]\n",
      "2 [['clubs', 7]] 0\n",
      "3 [['clubs', 7]]\n",
      "1 [['clubs', 9]] 2\n",
      "2 [['clubs', 9]] 0\n",
      "0 [['clubs', 13]]\n",
      "0 [['diamonds', 10]]\n",
      "2 [['diamonds', 10]] 0\n",
      "3 [['diamonds', 10]]\n",
      "0 [['diamonds', 13]]\n"
     ]
    }
   ],
   "source": [
    "\n",
    "#print(sum(g.deck.mycards), g.deck.mycards)\n",
    "temp=g.pl[0].lm.moves\n",
    "for k in temp:\n",
    "    if len(k)==3:\n",
    "        print(k[0], Game.get_cards(k[1]), k[2])\n",
    "    else:\n",
    "        print(k[0], Game.get_cards(k[1]))"
   ]
  },
  {
   "cell_type": "code",
   "execution_count": 15,
   "metadata": {},
   "outputs": [
    {
     "data": {
      "text/plain": [
       "[['spades', 6],\n",
       " ['spades', 13],\n",
       " ['hearts', 6],\n",
       " ['hearts', 11],\n",
       " ['hearts', 12],\n",
       " ['hearts', 13],\n",
       " ['clubs', 3],\n",
       " ['clubs', 7],\n",
       " ['clubs', 9],\n",
       " ['clubs', 13],\n",
       " ['diamonds', 10],\n",
       " ['diamonds', 13]]"
      ]
     },
     "execution_count": 15,
     "metadata": {},
     "output_type": "execute_result"
    }
   ],
   "source": [
    "#[i for i, x in enumerate(g.middle[0].mycards) if x==1]\n",
    "#print([[suit[k], val[k]] for k in [i for i, x in enumerate(g.middle[0].mycards) if x==1]])\n",
    "Game.get_cards(g.pl[0].hand)"
   ]
  },
  {
   "cell_type": "code",
   "execution_count": 5,
   "metadata": {},
   "outputs": [
    {
     "name": "stdout",
     "output_type": "stream",
     "text": [
      "[['spades', 6], ['spades', 11], ['spades', 13], ['hearts', 5], ['hearts', 8], ['clubs', 3], ['clubs', 4], ['clubs', 5], ['clubs', 6], ['clubs', 7], ['clubs', 8], ['diamonds', 9]]\n"
     ]
    },
    {
     "data": {
      "text/plain": [
       "[['spades', 6],\n",
       " ['spades', 11],\n",
       " ['spades', 13],\n",
       " ['hearts', 5],\n",
       " ['hearts', 8],\n",
       " ['clubs', 3],\n",
       " ['clubs', 4],\n",
       " ['clubs', 5],\n",
       " ['clubs', 6],\n",
       " ['clubs', 7],\n",
       " ['clubs', 8],\n",
       " ['diamonds', 9]]"
      ]
     },
     "execution_count": 5,
     "metadata": {},
     "output_type": "execute_result"
    }
   ],
   "source": [
    "#print([[suit[k], val[k]] for k in [i for i, x in enumerate(g.middle[0].mycards) if x==1]])\n",
    "Game.get_cards(g.pl[1].hand)"
   ]
  },
  {
   "cell_type": "code",
   "execution_count": null,
   "metadata": {
    "collapsed": true
   },
   "outputs": [],
   "source": [
    "suit={}\n",
    "val={}\n",
    "for i in range(52):\n",
    "    suit[i]=int(i/13)\n",
    "    val[i]=i%13+1"
   ]
  },
  {
   "cell_type": "code",
   "execution_count": 11,
   "metadata": {},
   "outputs": [
    {
     "data": {
      "text/plain": [
       "{0: 1,\n",
       " 1: 2,\n",
       " 2: 3,\n",
       " 3: 4,\n",
       " 4: 5,\n",
       " 5: 6,\n",
       " 6: 7,\n",
       " 7: 8,\n",
       " 8: 9,\n",
       " 9: 10,\n",
       " 10: 11,\n",
       " 11: 12,\n",
       " 12: 13,\n",
       " 13: 1,\n",
       " 14: 2,\n",
       " 15: 3,\n",
       " 16: 4,\n",
       " 17: 5,\n",
       " 18: 6,\n",
       " 19: 7,\n",
       " 20: 8,\n",
       " 21: 9,\n",
       " 22: 10,\n",
       " 23: 11,\n",
       " 24: 12,\n",
       " 25: 13,\n",
       " 26: 1,\n",
       " 27: 2,\n",
       " 28: 3,\n",
       " 29: 4,\n",
       " 30: 5,\n",
       " 31: 6,\n",
       " 32: 7,\n",
       " 33: 8,\n",
       " 34: 9,\n",
       " 35: 10,\n",
       " 36: 11,\n",
       " 37: 12,\n",
       " 38: 13,\n",
       " 39: 1,\n",
       " 40: 2,\n",
       " 41: 3,\n",
       " 42: 4,\n",
       " 43: 5,\n",
       " 44: 6,\n",
       " 45: 7,\n",
       " 46: 8,\n",
       " 47: 9,\n",
       " 48: 10,\n",
       " 49: 11,\n",
       " 50: 12,\n",
       " 51: 13}"
      ]
     },
     "execution_count": 11,
     "metadata": {},
     "output_type": "execute_result"
    }
   ],
   "source": [
    "val"
   ]
  },
  {
   "cell_type": "code",
   "execution_count": 127,
   "metadata": {},
   "outputs": [
    {
     "name": "stdout",
     "output_type": "stream",
     "text": [
      "41\n",
      "27\n",
      "17\n",
      "29\n",
      "49\n",
      "42\n",
      "25\n",
      "36\n",
      "[1, 4, 14, 18, 24, 25, 34, 35, 36, 42, 48, 49]\n",
      "[0, 6, 7, 8, 11, 15, 19, 21, 23, 30, 37, 39]\n"
     ]
    }
   ],
   "source": [
    "for i in range(4):\n",
    "    print(middle[i].mycards.index(1))\n",
    "                                  \n",
    "for i in range(4):\n",
    "    print(p1_start[i].mycards.index(1))\n",
    "    \n",
    "print([i for i,x in enumerate(p1.hand.mycards) if x==1])\n",
    "print([i for i,x in enumerate(p2.hand.mycards) if x==1])"
   ]
  },
  {
   "cell_type": "code",
   "execution_count": null,
   "metadata": {
    "collapsed": true
   },
   "outputs": [],
   "source": [
    "\n",
    "class LegalMoves_old():\n",
    "    def __init__(self):\n",
    "        self.moves=[]\n",
    "        #0 is throw, 1 is pick, 2 is modify, 3 is addon\n",
    "        for i in range(52):\n",
    "            self.moves.append([])\n",
    "            #for each card in deck, assign legal moves: \n",
    "            #pick[check each stack]\n",
    "            #modify[check each stack]\n",
    "            #addon[check each stack against every (other (todo)) stack]\n",
    "            #throw\n",
    "    def check_moves(self, middle, hand):\n",
    "        if middle is not None and hand is not None:\n",
    "            for i in range(52):\n",
    "                if hand.mycards[i]!=0:\n",
    "                    c=Card(i)\n",
    "                    for stack in middle:\n",
    "                        m=[1] if stack.pick(c, is_run=False) else [0]\n",
    "                        m.append(1) if stack.modify(c, is_run=False) else m.append(0)\n",
    "                        m.append(self.check_addons(middle, stack, c))\n",
    "                        self.moves[i].append(m)\n",
    "                    self.moves[i].append(self.check_throw(middle, c))\n",
    "    \n",
    "    def check_throw(self, middle, card):\n",
    "        is_valid=1\n",
    "        for stack in middle:\n",
    "            if stack.val==card.val:\n",
    "                is_valid=0\n",
    "                break\n",
    "        return(is_valid)\n",
    "    \n",
    "    def check_addons(self, middle, stack, card):\n",
    "        ctr=0\n",
    "        out=[]\n",
    "        for s in middle:\n",
    "            out.append([1, ctr]) if stack.addon(card, s, is_run=False) else out.append([0, ctr])\n",
    "            ctr+=1\n",
    "        return(out)\n",
    "    \n",
    "\n",
    "class Middle():\n",
    "    def __init__(self, card_arr=None):\n",
    "        self.stacks=[]\n",
    "        if card_arr is not None:\n",
    "            for k in card_arr:\n",
    "                self.stacks.append(Stack(k))\n",
    "    \n",
    "    def throw(self, card):\n",
    "        self.stacks.append(Stack(k))\n",
    "    \n",
    "    def combine(self, card, addon=None, target=None):\n",
    "        if target is None:\n",
    "            if card.val==addon.val:\n",
    "                pass\n",
    "            else:\n",
    "                #self.stacks.append({card.val+})\n",
    "                pass    \n",
    "    def pick(self, card, pl):\n",
    "        for k in self.stacks:\n",
    "            if card.val in k:\n",
    "                pass\n",
    " \n"
   ]
  },
  {
   "cell_type": "code",
   "execution_count": 125,
   "metadata": {},
   "outputs": [
    {
     "data": {
      "text/plain": [
       "[0,\n",
       " 1,\n",
       " 0,\n",
       " 0,\n",
       " 1,\n",
       " 0,\n",
       " 0,\n",
       " 0,\n",
       " 0,\n",
       " 0,\n",
       " 0,\n",
       " 0,\n",
       " 0,\n",
       " 0,\n",
       " 1,\n",
       " 0,\n",
       " 0,\n",
       " 0,\n",
       " 1,\n",
       " 0,\n",
       " 0,\n",
       " 0,\n",
       " 0,\n",
       " 0,\n",
       " 1,\n",
       " 1,\n",
       " 0,\n",
       " 0,\n",
       " 0,\n",
       " 0,\n",
       " 0,\n",
       " 0,\n",
       " 0,\n",
       " 0,\n",
       " 1,\n",
       " 1,\n",
       " 1,\n",
       " 0,\n",
       " 0,\n",
       " 0,\n",
       " 0,\n",
       " 0,\n",
       " 1,\n",
       " 0,\n",
       " 0,\n",
       " 0,\n",
       " 0,\n",
       " 0,\n",
       " 1,\n",
       " 1,\n",
       " 0,\n",
       " 0]"
      ]
     },
     "execution_count": 125,
     "metadata": {},
     "output_type": "execute_result"
    }
   ],
   "source": [
    "p1_start[0].mycards.index(1)\n",
    "\n",
    "p1.hand.mycards"
   ]
  },
  {
   "cell_type": "code",
   "execution_count": 13,
   "metadata": {},
   "outputs": [
    {
     "data": {
      "text/plain": [
       "2"
      ]
     },
     "execution_count": 13,
     "metadata": {},
     "output_type": "execute_result"
    }
   ],
   "source": [
    "[0,0,1].index(1)"
   ]
  }
 ],
 "metadata": {
  "kernelspec": {
   "display_name": "Python 3",
   "language": "python",
   "name": "python3"
  },
  "language_info": {
   "codemirror_mode": {
    "name": "ipython",
    "version": 3
   },
   "file_extension": ".py",
   "mimetype": "text/x-python",
   "name": "python",
   "nbconvert_exporter": "python",
   "pygments_lexer": "ipython3",
   "version": "3.4.3"
  }
 },
 "nbformat": 4,
 "nbformat_minor": 2
}
